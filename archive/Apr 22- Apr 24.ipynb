{
 "cells": [
  {
   "cell_type": "code",
   "execution_count": 5,
   "metadata": {
    "collapsed": false
   },
   "outputs": [
    {
     "name": "stdout",
     "output_type": "stream",
     "text": [
      "C:\\Users\\luke\\dropbox\n"
     ]
    }
   ],
   "source": [
    "cd dropbox"
   ]
  },
  {
   "cell_type": "code",
   "execution_count": 1,
   "metadata": {
    "collapsed": true
   },
   "outputs": [],
   "source": [
    "##  Useful tips \n",
    "### word.isupper() or word.islower() or word.istitle()\n",
    "### xrange\n",
    "### sorted(intervals, key=lambda x: x.start)\n",
    "### if out and i.start <= out[-1].end:\n"
   ]
  },
  {
   "cell_type": "code",
   "execution_count": 4,
   "metadata": {
    "collapsed": true
   },
   "outputs": [],
   "source": [
    "class TreeNode(object):\n",
    "    def __init__(self, x):\n",
    "        self.val = x\n",
    "        self.left = None\n",
    "        self.right = None"
   ]
  },
  {
   "cell_type": "code",
   "execution_count": 12,
   "metadata": {
    "collapsed": true
   },
   "outputs": [],
   "source": [
    "class Codec:\n",
    "\n",
    "    def serialize(self, root):\n",
    "        \"\"\"Encodes a tree to a single string.\n",
    "\n",
    "        :type root: TreeNode\n",
    "        :rtype: str\n",
    "        \"\"\"\n",
    "        if not root:\n",
    "            return []\n",
    "        queue = [root]\n",
    "        index = 0\n",
    "        while index < len(queue):\n",
    "            # node = queue.pop(0) #cannot use this method\n",
    "            node = queue[index]\n",
    "            if node:\n",
    "                queue.append(node.left)\n",
    "                queue.append(node.right)\n",
    "            index += 1\n",
    "\n",
    "        while not queue[-1]:\n",
    "            queue.pop()\n",
    "\n",
    "        return ','.join([str(node.val) if node else 'null' for node in queue])\n",
    "\n",
    "    def deserialize(self, data):\n",
    "        \"\"\"Decodes your encoded data to tree.\n",
    "\n",
    "        :type data: str\n",
    "        :rtype: TreeNode\n",
    "        \"\"\"\n",
    "        if not data:\n",
    "            return None\n",
    "        vals = data[1:-1].split(',')\n",
    "        root = TreeNode(int(vals[0]))\n",
    "        queue = [root]\n",
    "        index = 0\n",
    "        is_left = True\n",
    "        for val in vals[1:]:\n",
    "            if val != 'null':\n",
    "                node = TreeNode(val)\n",
    "                if is_left:\n",
    "                    queue[index].left = node\n",
    "                else:\n",
    "                    queue[index].right = node\n",
    "                queue.append(node)\n",
    "            if not is_left:\n",
    "                index += 1\n",
    "            is_left = not is_left\n",
    "        return root"
   ]
  },
  {
   "cell_type": "code",
   "execution_count": 18,
   "metadata": {
    "collapsed": false
   },
   "outputs": [
    {
     "data": {
      "text/plain": [
       "'1,2,null,3,4,null,5,6'"
      ]
     },
     "execution_count": 18,
     "metadata": {},
     "output_type": "execute_result"
    }
   ],
   "source": [
    "a = Codec()\n",
    "a.serialize(a.deserialize('[1,2,null,3,4,null,5,6]'))"
   ]
  },
  {
   "cell_type": "code",
   "execution_count": 22,
   "metadata": {
    "collapsed": true
   },
   "outputs": [],
   "source": [
    "b = set([1])"
   ]
  },
  {
   "cell_type": "code",
   "execution_count": 31,
   "metadata": {
    "collapsed": false
   },
   "outputs": [
    {
     "ename": "AttributeError",
     "evalue": "'dict' object has no attribute 'add'",
     "output_type": "error",
     "traceback": [
      "\u001b[0;31m---------------------------------------------------------------------------\u001b[0m",
      "\u001b[0;31mAttributeError\u001b[0m                            Traceback (most recent call last)",
      "\u001b[0;32m<ipython-input-31-04f97dc0d4eb>\u001b[0m in \u001b[0;36m<module>\u001b[0;34m()\u001b[0m\n\u001b[0;32m----> 1\u001b[0;31m \u001b[0mb\u001b[0m\u001b[0;34m.\u001b[0m\u001b[0madd\u001b[0m\u001b[0;34m(\u001b[0m\u001b[0;36m1\u001b[0m\u001b[0;34m)\u001b[0m\u001b[0;34m\u001b[0m\u001b[0m\n\u001b[0m",
      "\u001b[0;31mAttributeError\u001b[0m: 'dict' object has no attribute 'add'"
     ]
    }
   ],
   "source": [
    "b.add(1)"
   ]
  },
  {
   "cell_type": "code",
   "execution_count": 29,
   "metadata": {
    "collapsed": false
   },
   "outputs": [
    {
     "data": {
      "text/plain": [
       "{1}"
      ]
     },
     "execution_count": 29,
     "metadata": {},
     "output_type": "execute_result"
    }
   ],
   "source": [
    "b"
   ]
  },
  {
   "cell_type": "code",
   "execution_count": 30,
   "metadata": {
    "collapsed": false
   },
   "outputs": [],
   "source": [
    "b = {}"
   ]
  },
  {
   "cell_type": "markdown",
   "metadata": {},
   "source": [
    "# 4.22"
   ]
  },
  {
   "cell_type": "markdown",
   "metadata": {},
   "source": [
    "## 442. Find All Duplicates in an Array\n",
    "### Given an array of integers, 1 ≤ a[i] ≤ n (n = size of array), some elements appear twice and others appear once. Find all the elements that appear twice in this array. Could you do it without extra space and in O(n) runtime?"
   ]
  },
  {
   "cell_type": "code",
   "execution_count": 78,
   "metadata": {
    "collapsed": true
   },
   "outputs": [],
   "source": [
    "class Solution(object):\n",
    "    def findDuplicates(self, nums):\n",
    "        \"\"\"\n",
    "        :type nums: List[int]\n",
    "        :rtype: List[int]\n",
    "        \"\"\"\n",
    "        dupes_list = []\n",
    "        for index in range(len(nums)):\n",
    "            if nums[abs(nums[index])-1] > 0 :\n",
    "                nums[abs(nums[index])-1] *= -1\n",
    "            else:\n",
    "                dupes_list.append(abs(nums[index]))\n",
    "        return dupes_list\n",
    "                "
   ]
  },
  {
   "cell_type": "code",
   "execution_count": 85,
   "metadata": {
    "collapsed": true
   },
   "outputs": [],
   "source": [
    "class Solution(object):\n",
    "    def findDuplicates(self, nums):\n",
    "        \"\"\"\n",
    "        :type nums: List[int]\n",
    "        :rtype: List[int]\n",
    "        \"\"\"\n",
    "        dupes_list = []\n",
    "        for item in nums:\n",
    "            if nums[abs(item)-1] > 0:\n",
    "                nums[abs(item)-1] *= -1 \n",
    "            else:\n",
    "                dupes_list.append(abs(item))\n",
    "        return dupes_list"
   ]
  },
  {
   "cell_type": "code",
   "execution_count": 86,
   "metadata": {
    "collapsed": false
   },
   "outputs": [
    {
     "data": {
      "text/plain": [
       "[10, 1, 3]"
      ]
     },
     "execution_count": 86,
     "metadata": {},
     "output_type": "execute_result"
    }
   ],
   "source": [
    "solution = Solution()\n",
    "solution.findDuplicates([10,2,5,10,1,1,4,3,7,9,3])"
   ]
  },
  {
   "cell_type": "markdown",
   "metadata": {},
   "source": [
    "## 448. Find All Numbers Disappeared in an Array\n",
    "### Given an array of integers where 1 ≤ a[i] ≤ n (n = size of array), some elements appear twice and others appear once. Find all the elements of [1, n] inclusive that do not appear in this array. Could you do it without extra space and in O(n) runtime? You may assume the returned list does not count as extra space."
   ]
  },
  {
   "cell_type": "code",
   "execution_count": 90,
   "metadata": {
    "collapsed": true
   },
   "outputs": [],
   "source": [
    "class Solution(object):\n",
    "    def findDisappearedNumbers(self, nums):\n",
    "        \"\"\"\n",
    "        :type nums: List[int]\n",
    "        :rtype: List[int]\n",
    "        \"\"\"\n",
    "        disappereds = []\n",
    "        for item in nums:\n",
    "            if nums[abs(item)-1] > 0:\n",
    "                nums[abs(item)-1] *= -1\n",
    "        \n",
    "        for index in range(len(nums)):\n",
    "            if nums[index] > 0:\n",
    "                disappereds.append(index+1)      \n",
    "        return disappereds"
   ]
  },
  {
   "cell_type": "code",
   "execution_count": 94,
   "metadata": {
    "collapsed": false
   },
   "outputs": [
    {
     "data": {
      "text/plain": [
       "[2]"
      ]
     },
     "execution_count": 94,
     "metadata": {},
     "output_type": "execute_result"
    }
   ],
   "source": [
    "solution = Solution()\n",
    "solution.findDisappearedNumbers([1,3,3])"
   ]
  },
  {
   "cell_type": "markdown",
   "metadata": {},
   "source": [
    "## 495. Teemo Attacking\n",
    "### In LLP world, there is a hero called Teemo and his attacking can make his enemy Ashe be in poisoned condition. Now, given the Teemo's attacking ascending time series towards Ashe and the poisoning time duration per Teemo's attacking, you need to output the total time that Ashe is in poisoned condition. You may assume that Teemo attacks at the very beginning of a specific time point, and makes Ashe be in poisoned condition immediately."
   ]
  },
  {
   "cell_type": "code",
   "execution_count": 107,
   "metadata": {
    "collapsed": true
   },
   "outputs": [],
   "source": [
    "class Solution(object):\n",
    "    def findPoisonedDuration(self, timeSeries, duration):\n",
    "        \"\"\"\n",
    "        :type timeSeries: List[int]\n",
    "        :type duration: int\n",
    "        :rtype: int\n",
    "        \"\"\"\n",
    "        poisons = 0 \n",
    "        if timeSeries == [] or duration ==0 :\n",
    "            return 0\n",
    "        else:\n",
    "            last_point = timeSeries[0]\n",
    "            for point in timeSeries:\n",
    "                gap = point - last_point\n",
    "                if gap < duration:\n",
    "                    poisons += gap\n",
    "                else:\n",
    "                    poisons += duration\n",
    "                last_point = point\n",
    "            return poisons + duration\n",
    "            "
   ]
  },
  {
   "cell_type": "code",
   "execution_count": null,
   "metadata": {
    "collapsed": true
   },
   "outputs": [],
   "source": [
    "## official one\n",
    "class Solution(object):\n",
    "    def findPoisonedDuration(self, timeSeries, duration):\n",
    "        ans = duration * len(timeSeries)\n",
    "        for i in range(1,len(timeSeries)):\n",
    "            ans -= max(0, duration - (timeSeries[i] - timeSeries[i-1]))\n",
    "        return ans"
   ]
  },
  {
   "cell_type": "code",
   "execution_count": null,
   "metadata": {
    "collapsed": true
   },
   "outputs": [],
   "source": [
    "## might be better\n",
    "class Solution(object):\n",
    "    def findPoisonedDuration(self, timeSeries, duration):\n",
    "        if not timeSeries or len(timeSeries) == 0 or duration == 0:\n",
    "            return 0\n",
    "        result, start, end = 0, timeSeries[0], timeSeries[0] + duration\n",
    "        \n",
    "        for i in xrange(1, len(timeSeries)):\n",
    "            if timeSeries[i] > end:\n",
    "                result += end - start\n",
    "                start = timeSeries[i]\n",
    "            end = timeSeries[i] + duration\n",
    "        result += end - start\n",
    "        \n",
    "        return result\n"
   ]
  },
  {
   "cell_type": "code",
   "execution_count": 109,
   "metadata": {
    "collapsed": false
   },
   "outputs": [
    {
     "data": {
      "text/plain": [
       "0"
      ]
     },
     "execution_count": 109,
     "metadata": {},
     "output_type": "execute_result"
    }
   ],
   "source": [
    "solution = Solution()\n",
    "solution.findPoisonedDuration([1,2,3,4,5],0)"
   ]
  },
  {
   "cell_type": "markdown",
   "metadata": {},
   "source": [
    "## 56. Merge Intervals\n",
    "\n",
    "### Given a collection of intervals, merge all overlapping intervals For example, Given [1,3],[2,6],[8,10],[15,18], rturn [1,6],[8,10],[15,18]"
   ]
  },
  {
   "cell_type": "code",
   "execution_count": 169,
   "metadata": {
    "collapsed": false
   },
   "outputs": [],
   "source": [
    "# Definition for an interval.\n",
    "class Interval(object):\n",
    "    def __init__(self, s=0, e=0):\n",
    "        self.start = s\n",
    "        self.end = e\n",
    "\n",
    "class Solution(object):\n",
    "    def merge(self, intervals):\n",
    "        \"\"\"\n",
    "        :type intervals: List[Interval]\n",
    "        :rtype: List[Interval]\n",
    "        \"\"\"\n",
    "        if len(intervals) <= 1 :\n",
    "            return intervals\n",
    "        merge_intervals = []\n",
    "        intervals = sorted(intervals, key=lambda x: x.start)\n",
    "        for index in xrange(0, len(intervals)-1):\n",
    "            if intervals[index].end >= intervals[index+1].start:\n",
    "                    intervals[index+1].start = min(intervals[index].start,intervals[index+1].start)\n",
    "                    intervals[index+1].end = max(intervals[index].end,intervals[index+1].end)\n",
    "            else:\n",
    "                merge_intervals.append(intervals[index])\n",
    "        merge_intervals.append(intervals[index+1])       \n",
    "        return merge_intervals  "
   ]
  },
  {
   "cell_type": "code",
   "execution_count": null,
   "metadata": {
    "collapsed": true
   },
   "outputs": [],
   "source": [
    "### Interesting function used \n",
    "## sorted , \n",
    "## out and i........"
   ]
  },
  {
   "cell_type": "code",
   "execution_count": null,
   "metadata": {
    "collapsed": true
   },
   "outputs": [],
   "source": [
    "class Solution(object):\n",
    "    def merge(self, intervals):\n",
    "        out = []\n",
    "        for i in sorted(intervals, key=lambda i: i.start):\n",
    "            if out and i.start <= out[-1].end:\n",
    "                out[-1].end = max(out[-1].end, i.end)\n",
    "            else:\n",
    "                out += i,\n",
    "        return out"
   ]
  },
  {
   "cell_type": "code",
   "execution_count": 174,
   "metadata": {
    "collapsed": false
   },
   "outputs": [
    {
     "name": "stdout",
     "output_type": "stream",
     "text": [
      "[0, 4]\n"
     ]
    }
   ],
   "source": [
    "solution = Solution()\n",
    "for item in solution.merge([Interval(0,3),Interval(1,4)]):\n",
    "    print [item.start, item.end]"
   ]
  },
  {
   "cell_type": "markdown",
   "metadata": {},
   "source": [
    "## 520.Detect Capital\n",
    "### Given a word, you need to judge whether the usage of capitals in it is right or not. We define the usage of capitals in a word to be right when one of the following cases holds: All letters in this word are capitals, like \"USA\". All letters in this word are not capitals, like \"leetcode\". Only the first letter in this word is capital if it has more than one letter, like \"Google\". Otherwise, we define that this word doesn't use capitals in a right way."
   ]
  },
  {
   "cell_type": "code",
   "execution_count": 193,
   "metadata": {
    "collapsed": true
   },
   "outputs": [],
   "source": [
    "class Solution(object):\n",
    "    def detectCapitalUse(self, word):\n",
    "        \"\"\"\n",
    "        :type word: str\n",
    "        :rtype: bool\n",
    "        \"\"\"\n",
    "        if word.upper() == word:\n",
    "            return True\n",
    "        if word.lower() == word:\n",
    "            return True\n",
    "        if word[0].upper() == word[0]:\n",
    "            if word[1:].lower() ==  word[1:]:\n",
    "                return True\n",
    "        return False\n",
    "        "
   ]
  },
  {
   "cell_type": "code",
   "execution_count": null,
   "metadata": {
    "collapsed": true
   },
   "outputs": [],
   "source": [
    "def detectCapitalUse(self, word):\n",
    "    return word.isupper() or word.islower() or word.istitle()"
   ]
  },
  {
   "cell_type": "code",
   "execution_count": 196,
   "metadata": {
    "collapsed": false
   },
   "outputs": [
    {
     "data": {
      "text/plain": [
       "True"
      ]
     },
     "execution_count": 196,
     "metadata": {},
     "output_type": "execute_result"
    }
   ],
   "source": [
    "solution = Solution()\n",
    "solution.detectCapitalUse('gla')"
   ]
  },
  {
   "cell_type": "markdown",
   "metadata": {},
   "source": [
    "## 4.23"
   ]
  },
  {
   "cell_type": "markdown",
   "metadata": {},
   "source": [
    "### 167. Two Sum II - Input array is sorted\n",
    "### Given an array of integers that is already sorted in ascending order, find two numbers such that they add up to a specific target number. The function twoSum should return indices of the two numbers such that they add up to the target, where index1 must be less than index2. Please note that your returned answers (both index1 and index2) are not zero-based.  You may assume that each input would have exactly one solution and you may not use the same element twice.\n",
    "\n",
    "Input: numbers={2, 7, 11, 15}, target=9\n",
    "Output: index1=1, index2=2"
   ]
  },
  {
   "cell_type": "code",
   "execution_count": 63,
   "metadata": {
    "collapsed": false
   },
   "outputs": [],
   "source": [
    "# my solution: dictionary\n",
    "class Solution(object):\n",
    "    def twoSum(self, numbers, target):\n",
    "        \"\"\"\n",
    "        :type numbers: List[int]\n",
    "        :type target: int\n",
    "        :rtype: List[int]\n",
    "        \"\"\"\n",
    "        remains = {} \n",
    "        for index, num in enumerate(numbers):\n",
    "            remain = target - num\n",
    "            if remain in remains:\n",
    "                return [remains[remain], index+1]\n",
    "            remains[num] = index + 1 "
   ]
  },
  {
   "cell_type": "code",
   "execution_count": 58,
   "metadata": {
    "collapsed": true
   },
   "outputs": [],
   "source": [
    "# my solution: binary search\n",
    "class Solution(object):\n",
    "    def twoSum(self, numbers, target):\n",
    "        \"\"\"\n",
    "        :type numbers: List[int]\n",
    "        :type target: int\n",
    "        :rtype: List[int]\n",
    "        \"\"\"\n",
    "        right = len(numbers) -1 \n",
    "        for index, num in enumerate(numbers):\n",
    "            remain = target - num\n",
    "            left = index + 1 #### ??? plus 1 [2,3,4,5] 6 ==>　2, searching area[3,4,5]\n",
    "            while (left <= right):\n",
    "                mid = (left + right)/2\n",
    "                if remain < numbers[mid]:\n",
    "                    right = mid - 1 \n",
    "                elif remain > numbers[mid]:\n",
    "                    left = mid + 1\n",
    "                else:\n",
    "                    return [index+1,mid+1] "
   ]
  },
  {
   "cell_type": "code",
   "execution_count": 1,
   "metadata": {
    "collapsed": true
   },
   "outputs": [],
   "source": [
    "# my solution: two pointers\n",
    "class Solution(object):\n",
    "    def twoSum(self, numbers, target):\n",
    "        \"\"\"\n",
    "        :type numbers: List[int]\n",
    "        :type target: int\n",
    "        :rtype: List[int]\n",
    "        \"\"\"\n",
    "        l,r = 0, len(numbers)-1\n",
    "        while l < r:\n",
    "            if numbers[l] + numbers[r] < target:\n",
    "                l += 1 \n",
    "            elif numbers[l] + numbers[r] > target:\n",
    "                r -= 1\n",
    "            else:\n",
    "                return [l+1, r+1]\n",
    "        "
   ]
  },
  {
   "cell_type": "code",
   "execution_count": 51,
   "metadata": {
    "collapsed": true
   },
   "outputs": [],
   "source": [
    "class Solution(object):\n",
    "# binary search        \n",
    "    def twoSum(self, numbers, target):\n",
    "        for i in xrange(len(numbers)):\n",
    "            l, r = i+1, len(numbers)-1\n",
    "            tmp = target - numbers[i]\n",
    "            while l <= r:\n",
    "                mid = l + (r-l)//2\n",
    "                if numbers[mid] == tmp:\n",
    "                    return [i+1, mid+1]\n",
    "                elif numbers[mid] < tmp:\n",
    "                    l = mid+1\n",
    "                else:\n",
    "                    r = mid-1"
   ]
  },
  {
   "cell_type": "code",
   "execution_count": 2,
   "metadata": {
    "collapsed": false
   },
   "outputs": [
    {
     "data": {
      "text/plain": [
       "[3, 4]"
      ]
     },
     "execution_count": 2,
     "metadata": {},
     "output_type": "execute_result"
    }
   ],
   "source": [
    "solution = Solution()\n",
    "solution.twoSum([1,2,3,3,9,56,90],6)"
   ]
  },
  {
   "cell_type": "markdown",
   "metadata": {},
   "source": [
    "## 18. 4Sum\n",
    "\n",
    "### Given an array S of n integers, are there elements a, b, c, and d in S such that a + b + c + d = target? Find all unique quadruplets in the array which gives the sum of target."
   ]
  },
  {
   "cell_type": "code",
   "execution_count": 147,
   "metadata": {
    "collapsed": true
   },
   "outputs": [],
   "source": [
    "class Solution(object):\n",
    "    def fourSum(self, nums, target):\n",
    "        \"\"\"\n",
    "        :type nums: List[int]\n",
    "        :type target: int\n",
    "        :rtype: List[List[int]]\n",
    "        \"\"\"\n",
    "        combinations = []\n",
    "        len_nums = len(nums)\n",
    "        [ii,jj,kk,ll] = range(4)\n",
    "        for i in xrange(ii, (len(nums) -4 + 1)):\n",
    "            for j in xrange(jj, (len(nums) -3 + 1)) :\n",
    "                for k in xrange(kk, (len(nums) -2 + 1)):\n",
    "                    for l in xrange(ll, (len(nums) -1 + 1)):\n",
    "                        if nums[i] + nums[j]+nums[k]+nums[l] == target:\n",
    "                            if sorted([nums[i],nums[j],nums[k],nums[l]]) in combinations:\n",
    "                                pass\n",
    "                            elif len(set([i,j,k,l])) != 4:\n",
    "                                    pass\n",
    "                            else:\n",
    "                                combinations.append(sorted([nums[i],nums[j],nums[k],nums[l]]))\n",
    "        return combinations\n",
    "                            \n",
    "                        "
   ]
  },
  {
   "cell_type": "code",
   "execution_count": 197,
   "metadata": {
    "collapsed": false
   },
   "outputs": [],
   "source": [
    "class Solution(object):\n",
    "    def fourSum(self, nums, target):\n",
    "        \"\"\"\n",
    "        :type nums: List[int]\n",
    "        :type target: int\n",
    "        :rtype: List[List[int]]\n",
    "        \"\"\"\n",
    "        combinations = []\n",
    "        combinations_dict = {}\n",
    "        len_nums = len(nums)\n",
    "        [ii,jj,kk,ll] = range(4)\n",
    "        for i in xrange(ii, (len(nums) -4 + 1)):\n",
    "            for j in xrange(jj, (len(nums) -3 + 1)) :\n",
    "                for k in xrange(kk, (len(nums) -2 + 1)):\n",
    "                    if len(set([i,j,k])) == 3:\n",
    "                        three_sum = nums[i] + nums[j]+ nums[k]\n",
    "                        combinations_dict.setdefault(three_sum,[])\n",
    "                        sort_list = sorted([nums[i],nums[j],nums[k]])\n",
    "                        if (sorted([nums[i],nums[j],nums[k]])) not in (combinations_dict[three_sum]):\n",
    "                            combinations_dict[three_sum].append([sort_list,[i,j,k]])\n",
    "        for l in xrange(ll, (len(nums) -1 + 1)):  \n",
    "            if (target - nums[l]) in combinations_dict:\n",
    "                combinations += map(lambda x:x[0]+[nums[l]],filter(lambda x: len(set(x[1] + [l]))==4,\n",
    "                                                                   combinations_dict[target - nums[l]]))\n",
    "        combinations1 = []\n",
    "        for combin in combinations:\n",
    "            combin.sort()\n",
    "            if combin not in combinations1:\n",
    "                combinations1.append(combin)\n",
    "        return combinations1\n",
    "                            \n",
    "            "
   ]
  },
  {
   "cell_type": "code",
   "execution_count": 141,
   "metadata": {
    "collapsed": false
   },
   "outputs": [],
   "source": [
    "class Solution(object):\n",
    "    def fourSum(self, nums, target):\n",
    "        \"\"\"\n",
    "        :type nums: List[int]\n",
    "        :type target: int\n",
    "        :rtype: List[List[int]]\n",
    "        \"\"\"\n",
    "        combinations = []\n",
    "        combinations_dict = {}\n",
    "        combinations_dict1 = {}\n",
    "        len_nums = len(nums)\n",
    "        ii,jj,kk,ll = 0,1,2,3\n",
    "        nums.sort()\n",
    "        if len(nums) < 4:\n",
    "            return []\n",
    "        for i in xrange(ii,len_nums-4+1):\n",
    "            for j in xrange(jj, len_nums-3+1) :\n",
    "                if i<j:\n",
    "                    two_sum = nums[i] + nums[j]\n",
    "                    combinations_dict.setdefault(two_sum,[])\n",
    "                    sort_list = [nums[i],nums[j]]\n",
    "                    if sort_list not in (combinations_dict[two_sum]):\n",
    "                        combinations_dict[two_sum].append([sort_list,[i,j]])\n",
    "        for k in xrange(kk, len_nums-2+1):\n",
    "            for l in xrange(jj,len_nums):\n",
    "                if k < l:\n",
    "                    two_sum = nums[k] + nums[l]\n",
    "                    combinations_dict1.setdefault(two_sum,[])\n",
    "                    sort_list = [nums[k],nums[l]]\n",
    "                    if sort_list not in (combinations_dict1[two_sum]):\n",
    "                        combinations_dict1[two_sum].append([sort_list,[k,l]])\n",
    "        for key1 in combinations_dict:\n",
    "            new_target = target - key1\n",
    "            if new_target in combinations_dict1:\n",
    "                    for value1 in combinations_dict[key1]:\n",
    "                        for value2 in combinations_dict1[new_target]:\n",
    "                            if len(set(value1[1] + value2[1])) == 4 :\n",
    "                                total_list = value1[0]+value2[0]\n",
    "                                total_list.sort()\n",
    "                                if total_list not in combinations:\n",
    "                                    combinations.append(total_list)                  \n",
    "        return combinations"
   ]
  },
  {
   "cell_type": "code",
   "execution_count": 1,
   "metadata": {
    "collapsed": true
   },
   "outputs": [],
   "source": [
    "class Solution(object):\n",
    "    def fourSum(self, nums, target):\n",
    "        def findNsum(nums, target, N, result, results):\n",
    "            if len(nums) < N or N < 2 or target < nums[0]*N or target > nums[-1]*N:  # early termination\n",
    "                return\n",
    "            if N == 2: # two pointers solve sorted 2-sum problem\n",
    "                l,r = 0,len(nums)-1\n",
    "                while l < r:\n",
    "                    s = nums[l] + nums[r]\n",
    "                    if s == target:\n",
    "                        results.append(result + [nums[l], nums[r]])\n",
    "                        l += 1\n",
    "                        while l < r and nums[l] == nums[l-1]:\n",
    "                            l += 1\n",
    "                    elif s < target:\n",
    "                        l += 1\n",
    "                    else:\n",
    "                        r -= 1\n",
    "            else: # recursively reduce N\n",
    "                for i in range(len(nums)-N+1):\n",
    "                    if i == 0 or (i > 0 and nums[i-1] != nums[i]):\n",
    "                        findNsum(nums[i+1:], target-nums[i], N-1, result+[nums[i]], results)\n",
    "\n",
    "        results = []\n",
    "        findNsum(sorted(nums), target, 4, [], results)\n",
    "        return results "
   ]
  },
  {
   "cell_type": "code",
   "execution_count": 142,
   "metadata": {
    "collapsed": true
   },
   "outputs": [],
   "source": [
    "class Solution(object):\n",
    "    def fourSum(self, nums, target):\n",
    "        \"\"\"\n",
    "        :type nums: List[int]\n",
    "        :type target: int\n",
    "        :rtype: List[List[int]]\n",
    "        \"\"\"\n",
    "        combinations = []\n",
    "        combinations_dict = {}\n",
    "        combinations_dict1 = {}\n",
    "        len_nums = len(nums)\n",
    "        ii,jj,kk,ll = 0,1,2,3\n",
    "        nums.sort()\n",
    "        if len(nums) < 4:\n",
    "            return []\n",
    "        for i in xrange(ii,len_nums-4+1):\n",
    "            for j in xrange(jj, len_nums-3+1) :\n",
    "                if i<j:\n",
    "                    two_sum = nums[i] + nums[j]\n",
    "                    combinations_dict.setdefault(two_sum,[])\n",
    "                    sort_list = [nums[i],nums[j]]\n",
    "                    if sort_list not in (combinations_dict[two_sum]):\n",
    "                        combinations_dict[two_sum].append([sort_list,[i,j]])\n",
    "        for k in xrange(kk, len_nums-2+1):\n",
    "            for l in xrange(jj,len_nums):\n",
    "                if k < l:\n",
    "                    two_sum = nums[k] + nums[l]\n",
    "                    combinations_dict1.setdefault(two_sum,[])\n",
    "                    sort_list = [nums[k],nums[l]]\n",
    "                    if sort_list not in (combinations_dict1[two_sum]):\n",
    "                        combinations_dict1[two_sum].append([sort_list,[k,l]])\n",
    "        for key1 in combinations_dict:\n",
    "            for key2 in combinations_dict1:\n",
    "                if key1 + key2 == target:\n",
    "                    for value1 in combinations_dict[key1]:\n",
    "                        for value2 in combinations_dict1[key2]:\n",
    "                            if len(set(value1[1] + value2[1])) == 4 :\n",
    "                                total_list = value1[0]+value2[0]\n",
    "                                total_list.sort()\n",
    "                                if total_list not in combinations:\n",
    "                                    combinations.append(total_list)                  \n",
    "        return combinations"
   ]
  },
  {
   "cell_type": "code",
   "execution_count": 143,
   "metadata": {
    "collapsed": false
   },
   "outputs": [
    {
     "name": "stdout",
     "output_type": "stream",
     "text": [
      "0.0550000667572\n"
     ]
    }
   ],
   "source": [
    "a = time.time()\n",
    "solution = Solution()\n",
    "solution.fourSum([-493,-482,-482,-456,-427,-405,-392,-385,\n",
    "                  -351,-269,-259,-251,-235,-235,-202,-201,-194,\n",
    "                  -189,-187,-186,-180,-177,-175,-156,-150,-147,-140,-122,\n",
    "                  -112,-112,-105,-98,-49,-38,-35,-34,-18,20,52,53,57,76,124\n",
    "                  ,126,128,132,142,147,157,180,207,227,274,296,311,334,336,337,\n",
    "                  339,349,354,363,372,378,383,413,431,471,474,481,492],6189)\n",
    "b= time.time()\n",
    "print(b-a)"
   ]
  },
  {
   "cell_type": "markdown",
   "metadata": {},
   "source": [
    "## 15. 3Sum\n",
    "\n",
    "### Given an array S of n integers, are there elements a, b, c in S such that a + b + c = 0? Find all unique triplets in the array which gives the sum of zero."
   ]
  },
  {
   "cell_type": "code",
   "execution_count": 17,
   "metadata": {
    "collapsed": true
   },
   "outputs": [],
   "source": [
    "class Solution(object):\n",
    "    def threeSum(self, nums):\n",
    "        \"\"\"\n",
    "        :type nums: List[int]\n",
    "        :rtype: List[List[int]]\n",
    "        \"\"\"\n",
    "        if len(nums) < 3:\n",
    "            return []\n",
    "        nums.sort() \n",
    "        n_nums = len(nums)\n",
    "        combinations_dict = {}\n",
    "        combinations = []\n",
    "        for i in xrange(0,n_nums-2):\n",
    "            for j in xrange(1, n_nums-1):\n",
    "                if i < j:\n",
    "                    two_sum = nums[i] + nums[j]\n",
    "                    combinations_dict.setdefault(two_sum,[])\n",
    "                    sort_list = [nums[i],nums[j]]\n",
    "                    if sort_list not in (combinations_dict[two_sum]):\n",
    "                            combinations_dict[two_sum].append([sort_list,[i,j]])\n",
    "        for k in xrange(2,len(nums)):\n",
    "            key2 = nums[k]\n",
    "            new_target = 0 - key2\n",
    "            if new_target in combinations_dict:\n",
    "                for value1 in combinations_dict[new_target]:\n",
    "                    if value1[1][1] < k: \n",
    "                        total_list = value1[0]+[key2]\n",
    "                        total_list.sort()\n",
    "                        if total_list not in combinations:\n",
    "                            combinations.append(total_list)\n",
    "        return combinations      "
   ]
  },
  {
   "cell_type": "code",
   "execution_count": 20,
   "metadata": {
    "collapsed": false
   },
   "outputs": [],
   "source": [
    "class Solution(object):\n",
    "    def threeSum(self, nums):\n",
    "        \"\"\"\n",
    "        :type nums: List[int]\n",
    "        :rtype: List[List[int]]\n",
    "        \"\"\"\n",
    "        nums.sort() \n",
    "        combinations = []\n",
    "        n_nums = len(nums)\n",
    "        for i in range(n_nums-2):\n",
    "            if i > 0 and nums[i] == nums[i-1]:\n",
    "                continue\n",
    "            l,r = i+1, n_nums-1\n",
    "            while l < r:\n",
    "                s = nums[l] + nums[r] + nums[i]\n",
    "                if s < 0:\n",
    "                    l += 1\n",
    "                elif s > 0:\n",
    "                    r -= 1\n",
    "                else:\n",
    "                    combinations.append([nums[i], nums[l], nums[r]])\n",
    "                    while l < r and nums[l] == nums[l+1]:\n",
    "                        l += 1\n",
    "                    while l < r and nums[r] == nums[r-1]:\n",
    "                        r -= 1\n",
    "                    l += 1;r-=1        \n",
    "        return combinations\n",
    "                "
   ]
  },
  {
   "cell_type": "code",
   "execution_count": 53,
   "metadata": {
    "collapsed": false
   },
   "outputs": [],
   "source": [
    "### need research\n",
    "class Solution(object):\n",
    "    def threeSum(self, nums):\n",
    "        ct = {}\n",
    "        ret = []\n",
    "        for n in nums:\n",
    "            ct[n] = ct.get(n,0) + 1\n",
    "        uniques = ct.keys()\n",
    "        pos = [s for s in uniques if s >= 0]\n",
    "        neg = [s for s in uniques if s < 0]\n",
    "        pos.sort()\n",
    "        neg.sort(reverse=True)\n",
    "\n",
    "        if ct.get(0,0) >= 3:\n",
    "            ret.append([0,0,0])\n",
    "        for p in pos:\n",
    "            for n in neg:\n",
    "                r = 0-p-n\n",
    "                if (r == p or r == n) and ct[r] > 1:\n",
    "                    ret.append([p,n,r])\n",
    "                elif r in ct and (r > p or r < n):\n",
    "                    ret.append([p,n,r])\n",
    "        return ret"
   ]
  },
  {
   "cell_type": "code",
   "execution_count": 166,
   "metadata": {
    "collapsed": false
   },
   "outputs": [
    {
     "data": {
      "text/plain": [
       "True"
      ]
     },
     "execution_count": 166,
     "metadata": {},
     "output_type": "execute_result"
    }
   ],
   "source": []
  },
  {
   "cell_type": "code",
   "execution_count": 51,
   "metadata": {
    "collapsed": false
   },
   "outputs": [
    {
     "name": "stdout",
     "output_type": "stream",
     "text": [
      "0.0\n"
     ]
    }
   ],
   "source": [
    "a = time.time()\n",
    "solution = Solution()\n",
    "solution.threeSum([-493,-482,-482,-456,-427,-405,-392,-385,\n",
    "                  -351,-269,-259,-251,-235,-235,-202,-201,-194,\n",
    "                  -189,-187,-186,-180,-177,-175,-156,-150,-147,-140,-122,\n",
    "                  -112,-112,-105,-98,-49,-38,-35,-34,-18,20,52,53,57,76,124\n",
    "                  ,126,128,132,142,147,157,180,207,227,274,296,311,334,336,337,\n",
    "                  339,349,354,363,372,378,383,413,431,471,474,481,492])\n",
    "b= time.time()\n",
    "print(b-a)"
   ]
  },
  {
   "cell_type": "code",
   "execution_count": 52,
   "metadata": {
    "collapsed": false
   },
   "outputs": [
    {
     "data": {
      "text/plain": [
       "[[0, 0, 0]]"
      ]
     },
     "execution_count": 52,
     "metadata": {},
     "output_type": "execute_result"
    }
   ],
   "source": [
    "solution = Solution()\n",
    "solution.threeSum([0,0,0])"
   ]
  }
 ],
 "metadata": {
  "anaconda-cloud": {},
  "kernelspec": {
   "display_name": "Python 3",
   "language": "python",
   "name": "python3"
  },
  "language_info": {
   "codemirror_mode": {
    "name": "ipython",
    "version": 3
   },
   "file_extension": ".py",
   "mimetype": "text/x-python",
   "name": "python",
   "nbconvert_exporter": "python",
   "pygments_lexer": "ipython3",
   "version": "3.5.0"
  }
 },
 "nbformat": 4,
 "nbformat_minor": 0
}
