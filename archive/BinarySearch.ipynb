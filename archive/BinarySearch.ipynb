{
 "cells": [
  {
   "cell_type": "code",
   "execution_count": 68,
   "metadata": {
    "collapsed": true
   },
   "outputs": [],
   "source": [
    "def binarySearch(nums, target):\n",
    "    left = 0 \n",
    "    right = len(nums) -1 \n",
    "    while (left <= right):\n",
    "        mid = (left + right) / 2\n",
    "        if target < nums[mid]: \n",
    "            right = mid - 1\n",
    "        elif target > nums[mid]:\n",
    "            left = mid + 1\n",
    "        else:\n",
    "            return nums[mid]\n",
    "    return False"
   ]
  },
  {
   "cell_type": "code",
   "execution_count": 74,
   "metadata": {
    "collapsed": false
   },
   "outputs": [
    {
     "data": {
      "text/plain": [
       "7"
      ]
     },
     "execution_count": 74,
     "metadata": {},
     "output_type": "execute_result"
    }
   ],
   "source": [
    "binarySearch([2,7,11,15,19],7)"
   ]
  },
  {
   "cell_type": "code",
   "execution_count": 62,
   "metadata": {
    "collapsed": true
   },
   "outputs": [],
   "source": [
    "def binarySeachRecursive(nums,target):\n",
    "    left = 0\n",
    "    right = len(nums)-1\n",
    "    mid = (left + right) /2 \n",
    "    if (target < nums[mid]):\n",
    "        return binarySeachRecursive(nums[left:mid],target)\n",
    "    elif (target > nums[mid]):\n",
    "        return binarySeachRecursive(nums[mid+1:right+1],target)\n",
    "    else:\n",
    "        return nums[mid]"
   ]
  },
  {
   "cell_type": "code",
   "execution_count": 71,
   "metadata": {
    "collapsed": false
   },
   "outputs": [
    {
     "data": {
      "text/plain": [
       "10"
      ]
     },
     "execution_count": 71,
     "metadata": {},
     "output_type": "execute_result"
    }
   ],
   "source": [
    "binarySeachRecursive([1,2,3,4,5,10],10)"
   ]
  }
 ],
 "metadata": {
  "anaconda-cloud": {},
  "kernelspec": {
   "display_name": "Python [Root]",
   "language": "python",
   "name": "Python [Root]"
  },
  "language_info": {
   "codemirror_mode": {
    "name": "ipython",
    "version": 2
   },
   "file_extension": ".py",
   "mimetype": "text/x-python",
   "name": "python",
   "nbconvert_exporter": "python",
   "pygments_lexer": "ipython2",
   "version": "2.7.12"
  }
 },
 "nbformat": 4,
 "nbformat_minor": 0
}
