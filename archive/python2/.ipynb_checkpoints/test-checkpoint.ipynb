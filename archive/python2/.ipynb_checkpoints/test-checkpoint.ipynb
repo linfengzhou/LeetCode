{
 "cells": [
  {
   "cell_type": "code",
   "execution_count": 147,
   "metadata": {
    "collapsed": true
   },
   "outputs": [],
   "source": [
    "import heapq\n",
    "import collections"
   ]
  },
  {
   "cell_type": "code",
   "execution_count": 103,
   "metadata": {
    "collapsed": false
   },
   "outputs": [],
   "source": [
    "class Solution(object):\n",
    "    def matrixReshape(nums, r, c):\n",
    "        \"\"\"\n",
    "        :type nums: List[List[int]]\n",
    "        :type r: int\n",
    "        :type c: int\n",
    "        :rtype: List[List[int]]\n",
    "        \"\"\"\n",
    "        ori_rows = len(nums[0])\n",
    "        ori_cols = len(nums)\n",
    "        total_items = ori_rows * ori_cols\n",
    "        if total_items != (r*c):\n",
    "            return nums\n",
    "        else:\n",
    "            new_nums = []\n",
    "            for i in range(total_items):\n",
    "                if i%c == 0:\n",
    "                    new_nums.append([])\n",
    "                    new_nums[int(i/c)].append(nums[int(i/ori_rows)][int(i%ori_rows)])\n",
    "                else:\n",
    "                    new_nums[int(i/c)].append(nums[int(i/ori_rows)][int(i%ori_rows)])\n",
    "            return new_nums\n"
   ]
  },
  {
   "cell_type": "code",
   "execution_count": 105,
   "metadata": {
    "collapsed": false
   },
   "outputs": [
    {
     "data": {
      "text/plain": [
       "[[1, 2, 3, 4, 5, 6]]"
      ]
     },
     "execution_count": 105,
     "metadata": {},
     "output_type": "execute_result"
    }
   ],
   "source": [
    "Solution.matrixReshape([[1,2,3,4,5,6]],1,6)"
   ]
  },
  {
   "cell_type": "code",
   "execution_count": 117,
   "metadata": {
    "collapsed": true
   },
   "outputs": [],
   "source": [
    "class Solution(object):\n",
    "    def topKFrequent(nums, k):\n",
    "        \"\"\"\n",
    "        :type nums: List[int]\n",
    "        :type k: int\n",
    "        :rtype: List[int]\n",
    "        \"\"\"\n",
    "        counts_dict = {}\n",
    "        res = []\n",
    "        res_dict = {}\n",
    "        for num in nums:\n",
    "            if num not in counts_dict:\n",
    "                counts_dict[num] = 1\n",
    "            else:\n",
    "                counts_dict[num] += 1\n",
    "        for i in range(k):\n",
    "            neg_i = str(i)\n",
    "            res_dict[neg_i] = 0\n",
    "        \n",
    "        def check_res_dict(res_dict):\n",
    "            res_min = None\n",
    "            res_min_value = None\n",
    "            for key in res_dict:\n",
    "                if res_min is None:\n",
    "                    res_min = key\n",
    "                    res_min_value = res_dict[key]\n",
    "                else:\n",
    "                    if res_min_value > res_dict[key]:\n",
    "                        res_min = key\n",
    "                        res_min_value = res_dict[key]\n",
    "            return res_min, res_min_value\n",
    "        \n",
    "        res_min, res_min_value = check_res_dict(res_dict)\n",
    "        for num in counts_dict:\n",
    "            if counts_dict[num] > res_min_value:\n",
    "                res_dict[num] = counts_dict[num]\n",
    "                res_dict.pop(res_min)\n",
    "                res_min, res_min_value = check_res_dict(res_dict)\n",
    "                print(res_dict)\n",
    "        res = list(res_dict.keys())\n",
    "        return res"
   ]
  },
  {
   "cell_type": "code",
   "execution_count": 114,
   "metadata": {
    "collapsed": false
   },
   "outputs": [
    {
     "name": "stdout",
     "output_type": "stream",
     "text": [
      "0\n"
     ]
    }
   ],
   "source": [
    "for i in range(1):\n",
    "    print(i)"
   ]
  },
  {
   "cell_type": "code",
   "execution_count": 119,
   "metadata": {
    "collapsed": false
   },
   "outputs": [
    {
     "name": "stdout",
     "output_type": "stream",
     "text": [
      "{-1: 2}\n"
     ]
    },
    {
     "data": {
      "text/plain": [
       "[-1]"
      ]
     },
     "execution_count": 119,
     "metadata": {},
     "output_type": "execute_result"
    }
   ],
   "source": [
    "Solution.topKFrequent([-1,-1],1)"
   ]
  },
  {
   "cell_type": "code",
   "execution_count": 126,
   "metadata": {
    "collapsed": false
   },
   "outputs": [
    {
     "data": {
      "text/plain": [
       "[1, 4, 3, 7, 5, 6]"
      ]
     },
     "execution_count": 126,
     "metadata": {},
     "output_type": "execute_result"
    }
   ],
   "source": [
    "a = [1,7,3,4,5,6]\n",
    "heapq.heapify(a)\n",
    "a"
   ]
  },
  {
   "cell_type": "code",
   "execution_count": 152,
   "metadata": {
    "collapsed": false
   },
   "outputs": [
    {
     "data": {
      "text/plain": [
       "[4, 3, 2, 1]"
      ]
     },
     "execution_count": 152,
     "metadata": {},
     "output_type": "execute_result"
    }
   ],
   "source": [
    "sorted(list({1:1,2:2,3:3,4:4}.values()),reverse=True)"
   ]
  },
  {
   "cell_type": "code",
   "execution_count": 157,
   "metadata": {
    "collapsed": false
   },
   "outputs": [],
   "source": [
    "a = {1:1,2:2,5:5,4:4,6:5}"
   ]
  },
  {
   "cell_type": "code",
   "execution_count": 165,
   "metadata": {
    "collapsed": false
   },
   "outputs": [
    {
     "data": {
      "text/plain": [
       "[5, 6, 4, 2, 1]"
      ]
     },
     "execution_count": 165,
     "metadata": {},
     "output_type": "execute_result"
    }
   ],
   "source": [
    "sorted(a,key=a.get,reverse=True)"
   ]
  },
  {
   "cell_type": "code",
   "execution_count": 163,
   "metadata": {
    "collapsed": true
   },
   "outputs": [],
   "source": [
    "class Solution(object):\n",
    "    def frequencySort(s):\n",
    "        \"\"\"\n",
    "        :type s: str\n",
    "        :rtype: str\n",
    "        \"\"\"\n",
    "        s_dict = {}\n",
    "        for c in s:\n",
    "            if c not in s_dict:\n",
    "                s_dict[c] = 1\n",
    "            else:\n",
    "                s_dict[c] += 1\n",
    "        \n",
    "        c_list = sorted(s_dict,key=s_dict.get,reverse=True)\n",
    "        res = ''\n",
    "        for c in c_list:\n",
    "            res += c * s_dict[c]\n",
    "        return res\n",
    "            \n",
    "        \n",
    "        "
   ]
  },
  {
   "cell_type": "code",
   "execution_count": 164,
   "metadata": {
    "collapsed": false
   },
   "outputs": [
    {
     "data": {
      "text/plain": [
       "'eetr'"
      ]
     },
     "execution_count": 164,
     "metadata": {},
     "output_type": "execute_result"
    }
   ],
   "source": [
    "Solution.frequencySort('tree')"
   ]
  },
  {
   "cell_type": "code",
   "execution_count": 178,
   "metadata": {
    "collapsed": true
   },
   "outputs": [],
   "source": [
    "class Solution(object):\n",
    "    def moveZeroes(nums):\n",
    "        \"\"\"\n",
    "        :type nums: List[int]\n",
    "        :rtype: void Do not return anything, modify nums in-place instead.\n",
    "        \"\"\"\n",
    "        n = len(nums)\n",
    "        i = j = 0\n",
    "        \n",
    "        while j <= n-1:\n",
    "            if nums[i] == 0:\n",
    "                nums.pop(i)\n",
    "                nums.append(0)\n",
    "            else:\n",
    "                i += 1\n",
    "            j+=1\n",
    "        return nums"
   ]
  },
  {
   "cell_type": "code",
   "execution_count": 182,
   "metadata": {
    "collapsed": false
   },
   "outputs": [
    {
     "data": {
      "text/plain": [
       "[1, 3, 3, 0, 0, 0, 0]"
      ]
     },
     "execution_count": 182,
     "metadata": {},
     "output_type": "execute_result"
    }
   ],
   "source": [
    "Solution.moveZeroes([1,0,3,0,3,0,0])"
   ]
  },
  {
   "cell_type": "code",
   "execution_count": 191,
   "metadata": {
    "collapsed": false
   },
   "outputs": [],
   "source": [
    "class Solution(object):\n",
    "    def reverseVowels(s):\n",
    "        \"\"\"\n",
    "        :type s: str\n",
    "        :rtype: str\n",
    "        \"\"\"\n",
    "        i ,j = 0, len(s)-1\n",
    "        vowels = 'aeiou'\n",
    "        while i <= j:\n",
    "            if s[i] not in vowels:\n",
    "                i += 1\n",
    "            elif s[j] not in vowels:\n",
    "                j -= 1\n",
    "            else:\n",
    "                temp_i = s[i]\n",
    "                temp_j = s[j]\n",
    "                s[i] = temp_i\n",
    "                s[j] = temp_j\n",
    "                i += 1\n",
    "                j -= 1\n",
    "        return s\n",
    "        "
   ]
  },
  {
   "cell_type": "code",
   "execution_count": 192,
   "metadata": {
    "collapsed": false
   },
   "outputs": [
    {
     "ename": "TypeError",
     "evalue": "'str' object does not support item assignment",
     "output_type": "error",
     "traceback": [
      "\u001b[0;31m---------------------------------------------------------------------------\u001b[0m",
      "\u001b[0;31mTypeError\u001b[0m                                 Traceback (most recent call last)",
      "\u001b[0;32m<ipython-input-192-eb19aa5cd6b3>\u001b[0m in \u001b[0;36m<module>\u001b[0;34m()\u001b[0m\n\u001b[0;32m----> 1\u001b[0;31m \u001b[0mSolution\u001b[0m\u001b[0;34m.\u001b[0m\u001b[0mreverseVowels\u001b[0m\u001b[0;34m(\u001b[0m\u001b[0;34m'hello'\u001b[0m\u001b[0;34m)\u001b[0m\u001b[0;34m\u001b[0m\u001b[0m\n\u001b[0m",
      "\u001b[0;32m<ipython-input-191-b7b0bdb3055d>\u001b[0m in \u001b[0;36mreverseVowels\u001b[0;34m(s)\u001b[0m\n\u001b[1;32m     15\u001b[0m                 \u001b[0mtemp_i\u001b[0m \u001b[0;34m=\u001b[0m \u001b[0ms\u001b[0m\u001b[0;34m[\u001b[0m\u001b[0mi\u001b[0m\u001b[0;34m]\u001b[0m\u001b[0;34m\u001b[0m\u001b[0m\n\u001b[1;32m     16\u001b[0m                 \u001b[0mtemp_j\u001b[0m \u001b[0;34m=\u001b[0m \u001b[0ms\u001b[0m\u001b[0;34m[\u001b[0m\u001b[0mj\u001b[0m\u001b[0;34m]\u001b[0m\u001b[0;34m\u001b[0m\u001b[0m\n\u001b[0;32m---> 17\u001b[0;31m                 \u001b[0ms\u001b[0m\u001b[0;34m[\u001b[0m\u001b[0mi\u001b[0m\u001b[0;34m]\u001b[0m \u001b[0;34m=\u001b[0m \u001b[0mtemp_i\u001b[0m\u001b[0;34m\u001b[0m\u001b[0m\n\u001b[0m\u001b[1;32m     18\u001b[0m                 \u001b[0ms\u001b[0m\u001b[0;34m[\u001b[0m\u001b[0mj\u001b[0m\u001b[0;34m]\u001b[0m \u001b[0;34m=\u001b[0m \u001b[0mtemp_j\u001b[0m\u001b[0;34m\u001b[0m\u001b[0m\n\u001b[1;32m     19\u001b[0m                 \u001b[0mi\u001b[0m \u001b[0;34m+=\u001b[0m \u001b[0;36m1\u001b[0m\u001b[0;34m\u001b[0m\u001b[0m\n",
      "\u001b[0;31mTypeError\u001b[0m: 'str' object does not support item assignment"
     ]
    }
   ],
   "source": [
    "Solution.reverseVowels('hello')"
   ]
  },
  {
   "cell_type": "code",
   "execution_count": 201,
   "metadata": {
    "collapsed": false
   },
   "outputs": [],
   "source": [
    "class Solution(object):\n",
    "    def removeDuplicates(nums):\n",
    "        \"\"\"\n",
    "        :type nums: List[int]\n",
    "        :rtype: int\n",
    "        \"\"\"\n",
    "        last_num = None\n",
    "        n_nums = len(nums)\n",
    "        i = 0\n",
    "        while i < n_nums:\n",
    "            if nums[i] != last_num:\n",
    "                nums.append(nums[i])\n",
    "            last_num = nums[i]\n",
    "            i += 1\n",
    "        nums = nums[n_nums:]\n",
    "        return nums"
   ]
  },
  {
   "cell_type": "code",
   "execution_count": 202,
   "metadata": {
    "collapsed": false
   },
   "outputs": [
    {
     "data": {
      "text/plain": [
       "[1, 2]"
      ]
     },
     "execution_count": 202,
     "metadata": {},
     "output_type": "execute_result"
    }
   ],
   "source": [
    "Solution.removeDuplicates([1,1,2])"
   ]
  },
  {
   "cell_type": "code",
   "execution_count": null,
   "metadata": {
    "collapsed": true
   },
   "outputs": [],
   "source": []
  },
  {
   "cell_type": "code",
   "execution_count": 203,
   "metadata": {
    "collapsed": true
   },
   "outputs": [],
   "source": [
    "class Solution(object):\n",
    "    def isPalindrome(self, head):\n",
    "        \"\"\"\n",
    "        :type head: ListNode\n",
    "        :rtype: bool\n",
    "        \"\"\"\n",
    "        if not head:\n",
    "            return True\n",
    "        res = head\n",
    "        pre = None\n",
    "        while head is not None:\n",
    "            cur = head\n",
    "            cur.next =pre\n",
    "            pre = cur\n",
    "            head = head.next\n",
    "        if res == head:\n",
    "            return True\n",
    "        else:\n",
    "            return False"
   ]
  },
  {
   "cell_type": "code",
   "execution_count": 205,
   "metadata": {
    "collapsed": false
   },
   "outputs": [
    {
     "data": {
      "text/plain": [
       "[1, 2, 3, 4]"
      ]
     },
     "execution_count": 205,
     "metadata": {},
     "output_type": "execute_result"
    }
   ],
   "source": [
    "[1,2,3,4][0:4]"
   ]
  },
  {
   "cell_type": "code",
   "execution_count": null,
   "metadata": {
    "collapsed": true
   },
   "outputs": [],
   "source": []
  },
  {
   "cell_type": "code",
   "execution_count": null,
   "metadata": {
    "collapsed": true
   },
   "outputs": [],
   "source": [
    "# correct answser"
   ]
  },
  {
   "cell_type": "code",
   "execution_count": 150,
   "metadata": {
    "collapsed": false
   },
   "outputs": [],
   "source": [
    "class Solution(object):\n",
    "    def permuteUnique(self, nums):\n",
    "        \"\"\"\n",
    "        :type nums: List[int]\n",
    "        :rtype: List[List[int]]\n",
    "        \"\"\"\n",
    "        res = []\n",
    "        nums.sort()\n",
    "        self.helper([],nums,res,list([False]*len(nums)))\n",
    "        return res\n",
    "\n",
    "    def helper(self, path, nums, res,visit):\n",
    "        if len(path) == len(nums):\n",
    "            res.append(path[:])\n",
    "        for i in range(len(nums)):\n",
    "            if visit[i] == True:\n",
    "                continue\n",
    "            if i != 0 and nums[i-1] == nums[i] and visit[i-1] is False:\n",
    "                continue\n",
    "            visit[i] = True\n",
    "            path.append(nums[i])\n",
    "            self.helper(path, nums, res,visit)\n",
    "            visit[i] = False\n",
    "            path.pop()"
   ]
  },
  {
   "cell_type": "code",
   "execution_count": 151,
   "metadata": {
    "collapsed": false
   },
   "outputs": [
    {
     "data": {
      "text/plain": [
       "[[1, 1]]"
      ]
     },
     "execution_count": 151,
     "metadata": {},
     "output_type": "execute_result"
    }
   ],
   "source": [
    "a = Solution()\n",
    "a.permuteUnique([1,1])"
   ]
  },
  {
   "cell_type": "code",
   "execution_count": 88,
   "metadata": {
    "collapsed": true
   },
   "outputs": [],
   "source": [
    "import copy"
   ]
  },
  {
   "cell_type": "code",
   "execution_count": 152,
   "metadata": {
    "collapsed": false
   },
   "outputs": [],
   "source": [
    "# correct answer\n",
    "class Solution(object):\n",
    "    def permute(self, nums):\n",
    "        \"\"\"\n",
    "        :type nums: List[int]\n",
    "        :rtype: List[List[int]]\n",
    "        \"\"\"\n",
    "        res = []\n",
    "        self.helper([],nums,res,nums[:])\n",
    "        return res\n",
    "        \n",
    "    def helper(self, path, nums, res, visit):\n",
    "        if len(path) == len(nums):\n",
    "            res.append(list(path))\n",
    "        for i in range(len(nums)):\n",
    "            if visit[i] is True:\n",
    "                continue\n",
    "            visit[i] = True\n",
    "            path.append(nums[i])\n",
    "            self.helper(path, nums,res,visit)\n",
    "            visit[i] = False\n",
    "            path.pop()"
   ]
  },
  {
   "cell_type": "code",
   "execution_count": 101,
   "metadata": {
    "collapsed": false
   },
   "outputs": [
    {
     "data": {
      "text/plain": [
       "[[1, 2, 3], [1, 3, 2], [2, 1, 3], [2, 3, 1], [3, 1, 2], [3, 2, 1]]"
      ]
     },
     "execution_count": 101,
     "metadata": {},
     "output_type": "execute_result"
    }
   ],
   "source": [
    "a = Solution()\n",
    "a.permute([1,2,3])"
   ]
  },
  {
   "cell_type": "code",
   "execution_count": 210,
   "metadata": {
    "collapsed": true
   },
   "outputs": [],
   "source": [
    "# first\n",
    "class Solution(object):\n",
    "    def combinationSum(self, candidates, target):\n",
    "        \"\"\"\n",
    "        :type candidates: List[int]\n",
    "        :type target: int\n",
    "        :rtype: List[List[int]]\n",
    "        \"\"\"\n",
    "        res = []\n",
    "        candidates.sort()\n",
    "        self.helper(candidates,[],res,target)\n",
    "        return res\n",
    "        \n",
    "        \n",
    "        \n",
    "    def helper(self, candidates, path, res, target):\n",
    "        if sum(path) == target:\n",
    "            res.append(path[:])\n",
    "\n",
    "        for i in range(len(candidates)):\n",
    "            if path != [] and candidates[i] < path[-1]:\n",
    "                continue\n",
    "            if sum(path) > target:\n",
    "                continue\n",
    "            path.append(candidates[i])\n",
    "            self.helper(candidates, path, res, target)\n",
    "            path.pop()"
   ]
  },
  {
   "cell_type": "code",
   "execution_count": null,
   "metadata": {
    "collapsed": true
   },
   "outputs": [],
   "source": [
    "#　update not use sum\n",
    "# 4%\n",
    "class Solution(object):\n",
    "    def combinationSum(self, candidates, target):\n",
    "        \"\"\"\n",
    "        :type candidates: List[int]\n",
    "        :type target: int\n",
    "        :rtype: List[List[int]]\n",
    "        \"\"\"\n",
    "        res = []\n",
    "        candidates.sort()\n",
    "        self.helper(candidates,[],res,target,0)\n",
    "        return res\n",
    "          \n",
    "    def helper(self, candidates, path, res, target,latest):\n",
    "        if target == 0:\n",
    "            res.append(path[:])\n",
    "        for i in range(latest,len(candidates)):\n",
    "            if target < 0:\n",
    "                continue\n",
    "            path.append(candidates[i])\n",
    "            self.helper(candidates, path, res, target-candidates[i],i)\n",
    "            path.pop()"
   ]
  },
  {
   "cell_type": "code",
   "execution_count": 225,
   "metadata": {
    "collapsed": false
   },
   "outputs": [],
   "source": [
    "#　update not use sum\n",
    "# 87%\n",
    "class Solution(object):\n",
    "    def combinationSum(self, candidates, target):\n",
    "        \"\"\"\n",
    "        :type candidates: List[int]\n",
    "        :type target: int\n",
    "        :rtype: List[List[int]]\n",
    "        \"\"\"\n",
    "        res = []\n",
    "        candidates.sort()\n",
    "        self.helper(candidates,[],res,target,0)\n",
    "        return res\n",
    "          \n",
    "    def helper(self, candidates, path, res, target,latest):\n",
    "        if target == 0:\n",
    "            res.append(path[:])\n",
    "        for i in range(latest,len(candidates)):\n",
    "            if target < candidates[i]:\n",
    "                continue\n",
    "            path.append(candidates[i])\n",
    "            self.helper(candidates, path, res, target-candidates[i],i)\n",
    "            path.pop()"
   ]
  },
  {
   "cell_type": "code",
   "execution_count": 227,
   "metadata": {
    "collapsed": true
   },
   "outputs": [],
   "source": [
    "#　update not use sum\n",
    "# 87%\n",
    "class Solution(object):\n",
    "    def combinationSum(self, candidates, target):\n",
    "        \"\"\"\n",
    "        :type candidates: List[int]\n",
    "        :type target: int\n",
    "        :rtype: List[List[int]]\n",
    "        \"\"\"\n",
    "        res = []\n",
    "        candidates.sort()\n",
    "        self.helper(candidates,[],res,target,0)\n",
    "        return res\n",
    "          \n",
    "    def helper(self, candidates, path, res, target,latest):\n",
    "        if target == 0:\n",
    "            res.append(path[:])\n",
    "        for i in range(latest,len(candidates)):\n",
    "            if target < candidates[i]:\n",
    "                continue\n",
    "            self.helper(candidates, path+[candidates[i]], res, target-candidates[i],i)"
   ]
  },
  {
   "cell_type": "code",
   "execution_count": null,
   "metadata": {
    "collapsed": true
   },
   "outputs": [],
   "source": [
    "class Solution:\n",
    "    # @param candidates, a list of integers\n",
    "    # @param target, integer\n",
    "    # @return a list of lists of integers\n",
    "    def combinationSum(self, candidates, target):\n",
    "        # write your code here\n",
    "        candidates = list(set(candidates))\n",
    "        candidates.sort()\n",
    "        Solution.ret = []\n",
    "        self.DFS(candidates, target, 0, [])\n",
    "        return Solution.ret\n",
    "\n",
    "    def DFS(self, candidates, target, start, valuelist):\n",
    "        length = len(candidates)\n",
    "        if target == 0:\n",
    "            return Solution.ret.append(valuelist)\n",
    "        for i in range(start, length):\n",
    "            if target < candidates[i]:\n",
    "                return\n",
    "            self.DFS(candidates, target - candidates[i], i, valuelist + [candidates[i]])"
   ]
  },
  {
   "cell_type": "code",
   "execution_count": 228,
   "metadata": {
    "collapsed": false
   },
   "outputs": [
    {
     "data": {
      "text/plain": [
       "[[20, 22, 29],\n",
       " [20, 23, 28],\n",
       " [20, 24, 27],\n",
       " [22, 22, 27],\n",
       " [22, 23, 26],\n",
       " [23, 24, 24],\n",
       " [23, 48],\n",
       " [24, 47],\n",
       " [28, 43],\n",
       " [29, 42],\n",
       " [30, 41],\n",
       " [32, 39],\n",
       " [33, 38],\n",
       " [34, 37],\n",
       " [35, 36]]"
      ]
     },
     "execution_count": 228,
     "metadata": {},
     "output_type": "execute_result"
    }
   ],
   "source": [
    "a = Solution()\n",
    "a.combinationSum([39,33,28,35,38,46,22,26,47,20,30,42,29,43,48,34,24,36,40,32,23,41,37,27],71)"
   ]
  },
  {
   "cell_type": "code",
   "execution_count": 298,
   "metadata": {
    "collapsed": false
   },
   "outputs": [],
   "source": [
    "class Solution(object):\n",
    "    def combinationSum2(self, candidates, target):\n",
    "        \"\"\"\n",
    "        :type candidates: List[int]\n",
    "        :type target: int\n",
    "        :rtype: List[List[int]]\n",
    "        \"\"\"\n",
    "        candidates.sort()\n",
    "        res = []\n",
    "        self.helper([],candidates, res, target, 0,list([False]*len(candidates)))\n",
    "        return res\n",
    "    \n",
    "    def helper(self, path, candidates, res, target, start, visits):\n",
    "        if target == 0:\n",
    "            res.append(path[:])\n",
    "            return\n",
    "        if target < 0:\n",
    "            return\n",
    "        for i in range(start, len(candidates)):\n",
    "            if i != 0 and candidates[i] == candidates[i-1] and visits[i-1] is False:\n",
    "                continue\n",
    "            if target < candidates[i]:\n",
    "                continue\n",
    "            visits[i] = True\n",
    "            path.append(candidates[i])\n",
    "            self.helper(path, candidates, res, target-candidates[i],i+1, visits)\n",
    "            path.pop()\n",
    "            visits[i] = False\n",
    "            \n",
    "        "
   ]
  },
  {
   "cell_type": "code",
   "execution_count": 303,
   "metadata": {
    "collapsed": true
   },
   "outputs": [],
   "source": []
  },
  {
   "cell_type": "code",
   "execution_count": 316,
   "metadata": {
    "collapsed": true
   },
   "outputs": [],
   "source": [
    "class Solution(object):\n",
    "    def combine(self, n, k):\n",
    "        \"\"\"\n",
    "        :type n: int\n",
    "        :type k: int\n",
    "        :rtype: List[List[int]]\n",
    "        \"\"\"\n",
    "        res = []\n",
    "        self.helper([], k, 1, n, res)\n",
    "        return res\n",
    "    \n",
    "    def helper(self, path,n_items, start, target, res):\n",
    "        if n_items == 0:\n",
    "            res.append(path[:])\n",
    "            return\n",
    "        for i in range(start, target+1):\n",
    "            path.append(i)\n",
    "            self.helper(path, n_items-1, i+1, target, res)\n",
    "            path.pop()"
   ]
  },
  {
   "cell_type": "code",
   "execution_count": 317,
   "metadata": {
    "collapsed": false
   },
   "outputs": [
    {
     "data": {
      "text/plain": [
       "[[1, 2], [1, 3], [1, 4], [2, 3], [2, 4], [3, 4]]"
      ]
     },
     "execution_count": 317,
     "metadata": {},
     "output_type": "execute_result"
    }
   ],
   "source": [
    "a = Solution()\n",
    "a.combine(4,2)"
   ]
  },
  {
   "cell_type": "code",
   "execution_count": null,
   "metadata": {
    "collapsed": true
   },
   "outputs": [],
   "source": [
    "class Solution(object):\n",
    "    def combine(self, n, k):\n",
    "        \"\"\"\n",
    "        :type n: int\n",
    "        :type k: int\n",
    "        :rtype: List[List[int]]\n",
    "        \"\"\"\n",
    "        res = []\n",
    "        self.helper([], k, n, res)\n",
    "        return res"
   ]
  },
  {
   "cell_type": "code",
   "execution_count": 324,
   "metadata": {
    "collapsed": true
   },
   "outputs": [],
   "source": [
    "class Solution(object):\n",
    "    def combinationSum3(self, k, n):\n",
    "        \"\"\"\n",
    "        :type k: int\n",
    "        :type n: int\n",
    "        :rtype: List[List[int]]\n",
    "        \"\"\"\n",
    "        \n",
    "        res = []\n",
    "        self.helper([],k,n,1,res)\n",
    "        return res\n",
    "    \n",
    "    def helper(self, path, n_items, target, start, res):\n",
    "        if target == 0 and n_items == 0:\n",
    "            res.append(path[:])\n",
    "            return\n",
    "        for i in range(start, 10):\n",
    "            if n_items<=0 or target<0:\n",
    "                continue\n",
    "            \n",
    "            path.append(i)\n",
    "            self.helper(path, n_items-1, target-i, i+1, res)\n",
    "            path.pop()\n",
    "                "
   ]
  },
  {
   "cell_type": "code",
   "execution_count": 327,
   "metadata": {
    "collapsed": false
   },
   "outputs": [
    {
     "data": {
      "text/plain": [
       "[[1, 2, 6], [1, 3, 5], [2, 3, 4]]"
      ]
     },
     "execution_count": 327,
     "metadata": {},
     "output_type": "execute_result"
    }
   ],
   "source": [
    "a = Solution()\n",
    "a.combinationSum3(3,9)"
   ]
  },
  {
   "cell_type": "code",
   "execution_count": null,
   "metadata": {
    "collapsed": true
   },
   "outputs": [],
   "source": []
  },
  {
   "cell_type": "code",
   "execution_count": 336,
   "metadata": {
    "collapsed": true
   },
   "outputs": [],
   "source": [
    "class Solution(object):\n",
    "    def searchRange(self, nums, target):\n",
    "        \"\"\"\n",
    "        :type nums: List[int]\n",
    "        :type target: int\n",
    "        :rtype: List[int]\n",
    "        \"\"\"\n",
    "        start = 0\n",
    "        end = len(nums) - 1\n",
    "        if len(nums) == 0:\n",
    "            return [-1,-1]\n",
    "        \n",
    "        while start + 1 < end:\n",
    "            mid = int(start + (end - start) / 2)\n",
    "            if nums[mid] == target:\n",
    "                end = mid\n",
    "            elif nums[mid] < target:\n",
    "                start = mid\n",
    "            elif nums[mid] > target:\n",
    "                end = mid\n",
    "        # left bound\n",
    "        if nums[start] == target:\n",
    "            left_bound = start\n",
    "        elif nums[end] == target:\n",
    "            left_bound = end\n",
    "        else:\n",
    "            return [-1,-1]\n",
    "        \n",
    "        start = 0\n",
    "        end = len(nums) - 1\n",
    "        \n",
    "        while start + 1 < end:\n",
    "            mid = int(start + (end - start) / 2)\n",
    "            if nums[mid] == target:\n",
    "                 start = mid\n",
    "            elif nums[mid] < target:\n",
    "                start = mid\n",
    "            elif nums[mid] > target:\n",
    "                end = mid\n",
    "        # right bound\n",
    "        if nums[end] == target:\n",
    "            right_bound = end\n",
    "        elif nums[start] == target:\n",
    "            right_bound = start\n",
    "        else:\n",
    "            return [-1,-1]\n",
    "        return [left_bound,right_bound]\n",
    "        \n",
    "                \n",
    "            "
   ]
  },
  {
   "cell_type": "code",
   "execution_count": null,
   "metadata": {
    "collapsed": true
   },
   "outputs": [],
   "source": [
    "class Solution(object):\n",
    "    def searchRange(self, nums, target):\n",
    "        \"\"\"\n",
    "        :type nums: List[int]\n",
    "        :type target: int\n",
    "        :rtype: List[int]\n",
    "        \"\"\"\n",
    "        start = 0\n",
    "        end = len(nums) - 1\n",
    "        if len(nums) == 0:\n",
    "            return [-1,-1]\n",
    "        \n",
    "        # left bound\n",
    "        while start + 1 < end:\n",
    "            mid = int(start + (end - start) / 2)\n",
    "            if nums[mid] == target:\n",
    "                end = mid\n",
    "            elif nums[mid] < target:\n",
    "                start = mid\n",
    "            elif nums[mid] > target:\n",
    "                end = mid\n",
    "        if nums[start] == target:\n",
    "            left_bound = start\n",
    "        elif nums[end] == target:\n",
    "            left_bound = end\n",
    "        else:\n",
    "            return [-1,-1]\n",
    "        \n",
    "        # right bound\n",
    "        start = left_bound\n",
    "        end = len(nums) - 1\n",
    "        \n",
    "        while start + 1 < end:\n",
    "            mid = int(start + (end - start) / 2)\n",
    "            if nums[mid] == target:\n",
    "                 start = mid\n",
    "            elif nums[mid] < target:\n",
    "                start = mid\n",
    "            elif nums[mid] > target:\n",
    "                end = mid\n",
    "                \n",
    "        if nums[end] == target:\n",
    "            right_bound = end\n",
    "        elif nums[start] == target:\n",
    "            right_bound = start\n",
    "        else:\n",
    "            return [-1,-1]\n",
    "        return [left_bound,right_bound]\n",
    "        \n",
    "                \n",
    "            "
   ]
  },
  {
   "cell_type": "code",
   "execution_count": 338,
   "metadata": {
    "collapsed": false
   },
   "outputs": [
    {
     "data": {
      "text/plain": [
       "[-1, -1]"
      ]
     },
     "execution_count": 338,
     "metadata": {},
     "output_type": "execute_result"
    }
   ],
   "source": [
    "a = Solution()\n",
    "a.searchRange([],3)"
   ]
  },
  {
   "cell_type": "code",
   "execution_count": 339,
   "metadata": {
    "collapsed": true
   },
   "outputs": [],
   "source": [
    "class Solution(object):\n",
    "    def searchInsert(self, nums, target):\n",
    "        \"\"\"\n",
    "        :type nums: List[int]\n",
    "        :type target: int\n",
    "        :rtype: int\n",
    "        \"\"\"\n",
    "        start, end = 0, len(nums) -1 \n",
    "        # find last largest\n",
    "        \n",
    "        while start + 1 < end:\n",
    "            mid = int(start + (end - start) / 2)\n",
    "            if nums[mid] == target:\n",
    "                return mid\n",
    "            elif nums[mid] < target:\n",
    "                start = mid\n",
    "            elif nums[mid] > target:\n",
    "                end = mid\n",
    "        \n",
    "        if nums[start] >= target:\n",
    "            return start\n",
    "        elif nums[end] >= target:\n",
    "            return end\n",
    "        else:\n",
    "            return end + 1\n",
    "            \n",
    "                "
   ]
  },
  {
   "cell_type": "code",
   "execution_count": 346,
   "metadata": {
    "collapsed": false
   },
   "outputs": [
    {
     "data": {
      "text/plain": [
       "0"
      ]
     },
     "execution_count": 346,
     "metadata": {},
     "output_type": "execute_result"
    }
   ],
   "source": [
    "a = Solution()\n",
    "a.searchInsert([1],0)"
   ]
  },
  {
   "cell_type": "code",
   "execution_count": 359,
   "metadata": {
    "collapsed": true
   },
   "outputs": [],
   "source": [
    "class Solution(object):\n",
    "    def searchMatrix(self, matrix, target):\n",
    "        \"\"\"\n",
    "        :type matrix: List[List[int]]\n",
    "        :type target: int\n",
    "        :rtype: bool\n",
    "        \"\"\"\n",
    "        start, end = 0, len(matrix) * len(matrix[0]) -1 \n",
    "        n_col = len(matrix[0])\n",
    "        while start + 1 < end:\n",
    "            mid = int(start + (end - start) / 2)\n",
    "            mid_item = matrix[int(mid/n_col)][int(mid%n_col)]\n",
    "            if mid_item == target:\n",
    "                return True\n",
    "            elif mid_item < target:\n",
    "                start = mid\n",
    "            elif mid_item > target:\n",
    "                end = mid\n",
    "        \n",
    "        if matrix[int(start/n_col)][int(start%n_col)] == target:\n",
    "            return True\n",
    "        elif matrix[int(end/n_col)][int(end%n_col)] == target:\n",
    "            return True\n",
    "        else:\n",
    "            return False"
   ]
  },
  {
   "cell_type": "code",
   "execution_count": 361,
   "metadata": {
    "collapsed": false
   },
   "outputs": [
    {
     "data": {
      "text/plain": [
       "False"
      ]
     },
     "execution_count": 361,
     "metadata": {},
     "output_type": "execute_result"
    }
   ],
   "source": [
    "a = Solution()\n",
    "a.searchMatrix([[1,3,5,7],[10,11,16,20],[23,30,34,50]],4)"
   ]
  },
  {
   "cell_type": "code",
   "execution_count": null,
   "metadata": {
    "collapsed": true
   },
   "outputs": [],
   "source": [
    "#114\n",
    "# more pythonic\n",
    "# Definition for a binary tree node.\n",
    "# class TreeNode(object):\n",
    "#     def __init__(self, x):\n",
    "#         self.val = x\n",
    "#         self.left = None\n",
    "#         self.right = None\n",
    "\n",
    "class Solution(object):\n",
    "    def preorderTraversal(self, root):\n",
    "        \"\"\"\n",
    "        :type root: TreeNode\n",
    "        :rtype: List[int]\n",
    "        \"\"\"\n",
    "        if not root:\n",
    "            return []\n",
    "    \n",
    "        self.res = []\n",
    "        self.preorder(root)\n",
    "        return self.res\n",
    "    \n",
    "    def preorder(self, root):\n",
    "        if root is None:\n",
    "            return\n",
    "        \n",
    "        self.res.append(root.val)\n",
    "        self.preorder(root.left)\n",
    "        self.preorder(root.right)"
   ]
  },
  {
   "cell_type": "code",
   "execution_count": null,
   "metadata": {
    "collapsed": true
   },
   "outputs": [],
   "source": [
    "# Definition for a binary tree node.\n",
    "# class TreeNode(object):\n",
    "#     def __init__(self, x):\n",
    "#         self.val = x\n",
    "#         self.left = None\n",
    "#         self.right = None\n",
    "\n",
    "class Solution(object):\n",
    "    def preorderTraversal(self, root):\n",
    "        \"\"\"\n",
    "        :type root: TreeNode\n",
    "        :rtype: List[int]\n",
    "        \"\"\"\n",
    "        if not root:\n",
    "            return []\n",
    "    \n",
    "        res = []\n",
    "        self.preorder(root, res)\n",
    "        return res\n",
    "    \n",
    "    def preorder(self, root, res):\n",
    "        if root is None:\n",
    "            return\n",
    "        \n",
    "        res.append(root.val)\n",
    "        self.preorder(root.left, res)\n",
    "        self.preorder(root.right, res)"
   ]
  },
  {
   "cell_type": "code",
   "execution_count": null,
   "metadata": {
    "collapsed": true
   },
   "outputs": [],
   "source": [
    "# Definition for a binary tree node.\n",
    "class TreeNode(object):\n",
    "    def __init__(self, x):\n",
    "        self.val = x\n",
    "        self.left = None\n",
    "        self.right = None\n",
    "\n",
    "class Solution(object):\n",
    "    def preorderTraversal(self, root):\n",
    "        \"\"\"\n",
    "        :type root: TreeNode\n",
    "        :rtype: List[int]\n",
    "        \"\"\"\n",
    "        node_stack = [root]\n",
    "        res = []\n",
    "        \n",
    "        if not root:\n",
    "            return res\n",
    "        \n",
    "        while node_stack != []:\n",
    "            temp = node_stack.pop()\n",
    "            res.append(temp.val)\n",
    "            if temp.right != None:\n",
    "                node_stack.append(right)\n",
    "            if temp.left != None:\n",
    "                node_stack.append(left)\n",
    "        \n",
    "        return res\n",
    "            "
   ]
  },
  {
   "cell_type": "code",
   "execution_count": null,
   "metadata": {
    "collapsed": true
   },
   "outputs": [],
   "source": [
    "# Definition for a binary tree node.\n",
    "# class TreeNode(object):\n",
    "#     def __init__(self, x):\n",
    "#         self.val = x\n",
    "#         self.left = None\n",
    "#         self.right = None\n",
    "\n",
    "class Solution(object):\n",
    "    def inorderTraversal(self, root):\n",
    "        \"\"\"\n",
    "        :type root: TreeNode\n",
    "        :rtype: List[int]\n",
    "        \"\"\"\n",
    "        self.res = []\n",
    "        if root is None:\n",
    "            return self.res\n",
    "        \n",
    "        self.inorder(root)\n",
    "        return self.res\n",
    "        \n",
    "    def inorder(self, root):\n",
    "        if root is None:\n",
    "            return\n",
    "        self.inorder(root.left)\n",
    "        self.res.append(root.val)\n",
    "        self.inorder(root.right)"
   ]
  },
  {
   "cell_type": "code",
   "execution_count": 362,
   "metadata": {
    "collapsed": true
   },
   "outputs": [],
   "source": [
    "# 94\n",
    "# Definition for a binary tree node.\n",
    "# class TreeNode(object):\n",
    "#     def __init__(self, x):\n",
    "#         self.val = x\n",
    "#         self.left = None\n",
    "#         self.right = None\n",
    "\n",
    "class Solution(object):\n",
    "    def inorderTraversal(self, root):\n",
    "        \"\"\"\n",
    "        :type root: TreeNode\n",
    "        :rtype: List[int]\n",
    "        \"\"\"\n",
    "        self.res = []\n",
    "        if root is None:\n",
    "            return self.res\n",
    "        \n",
    "        self.inorder(root)\n",
    "        return self.res\n",
    "        \n",
    "    def inorder(self, root):\n",
    "        if root is not None:\n",
    "            self.inorder(root.left)\n",
    "        else:\n",
    "            self.res.append(root.val)\n",
    "            self.inorder(root.right)"
   ]
  },
  {
   "cell_type": "code",
   "execution_count": null,
   "metadata": {
    "collapsed": true
   },
   "outputs": [],
   "source": [
    "# Definition for a binary tree node.\n",
    "# class TreeNode(object):\n",
    "#     def __init__(self, x):\n",
    "#         self.val = x\n",
    "#         self.left = None\n",
    "#         self.right = None\n",
    "\n",
    "class Solution(object):\n",
    "    def inorderTraversal(self, root):\n",
    "        \"\"\"\n",
    "        :type root: TreeNode\n",
    "        :rtype: List[int]\n",
    "        \"\"\"\n",
    "        res = []\n",
    "        if root is None:\n",
    "            return res\n",
    "        \n",
    "        node_stack = []\n",
    "        cur_node = root\n",
    "        while node_stack != [] or cur_node:\n",
    "            while cur_node is not None:\n",
    "                node_stack.append(cur_node)\n",
    "                cur_node = cur_node.left\n",
    "            \n",
    "            cur_node = node_stack.pop()\n",
    "            res.append(cur_node.val)\n",
    "            cur_node = cur_node.right\n",
    "        \n",
    "        return res"
   ]
  },
  {
   "cell_type": "code",
   "execution_count": null,
   "metadata": {
    "collapsed": true
   },
   "outputs": [],
   "source": [
    "# Definition for a binary tree node.\n",
    "# class TreeNode(object):\n",
    "#     def __init__(self, x):\n",
    "#         self.val = x\n",
    "#         self.left = None\n",
    "#         self.right = None\n",
    "\n",
    "class Solution(object):\n",
    "    def postorderTraversal(self, root):\n",
    "        \"\"\"\n",
    "        :type root: TreeNode\n",
    "        :rtype: List[int]\n",
    "        \"\"\"\n",
    "        self.res = []\n",
    "        if root is None:\n",
    "            return self.res\n",
    "        \n",
    "        self.postorder(root)\n",
    "        return self.res\n",
    "        \n",
    "        \n",
    "    \n",
    "    def postorder(self,root):\n",
    "        if root is None:\n",
    "            return\n",
    "        self.postorder(root.left)\n",
    "        self.postorder(root.right)\n",
    "        self.res.append(root.val)"
   ]
  },
  {
   "cell_type": "code",
   "execution_count": null,
   "metadata": {
    "collapsed": true
   },
   "outputs": [],
   "source": [
    "//Iterative\n",
    "public ArrayList<Integer> postorderTraversal(TreeNode root) {\n",
    "    ArrayList<Integer> result = new ArrayList<Integer>();\n",
    "    Stack<TreeNode> stack = new Stack<TreeNode>();\n",
    "    TreeNode prev = null; // previously traversed node\n",
    "    TreeNode curr = root;\n",
    "\n",
    "    if (root == null) {\n",
    "        return result;\n",
    "    }\n",
    "\n",
    "    stack.push(root);\n",
    "    while (!stack.empty()) {\n",
    "        curr = stack.peek();\n",
    "        if (prev == null || prev.left == curr || prev.right == curr) { // traverse down the tree\n",
    "            if (curr.left != null) {\n",
    "                stack.push(curr.left);\n",
    "            } else if (curr.right != null) {\n",
    "                stack.push(curr.right);\n",
    "            }\n",
    "        } else if (curr.left == prev) { // traverse up the tree from the left\n",
    "            if (curr.right != null) {\n",
    "                stack.push(curr.right);\n",
    "            }\n",
    "        } else { // traverse up the tree from the right\n",
    "            result.add(curr.val);\n",
    "            stack.pop();\n",
    "        }\n",
    "        prev = curr;\n",
    "    }\n",
    "\n",
    "    return result;\n",
    "}"
   ]
  },
  {
   "cell_type": "code",
   "execution_count": null,
   "metadata": {
    "collapsed": true
   },
   "outputs": [],
   "source": [
    "# Definition for a binary tree node.\n",
    "# class TreeNode(object):\n",
    "#     def __init__(self, x):\n",
    "#         self.val = x\n",
    "#         self.left = None\n",
    "#         self.right = None\n",
    "\n",
    "class Solution(object):\n",
    "    def postorderTraversal(self, root):\n",
    "        \"\"\"\n",
    "        :type root: TreeNode\n",
    "        :rtype: List[int]\n",
    "        \"\"\"\n",
    "        res = []\n",
    "        if root:\n",
    "            return root\n",
    "        \n",
    "        node_stack = [root]\n",
    "        \n",
    "        while len(node_stack) != 0:\n",
    "            curr = node_stack[-1]\n",
    "            if not prev or prev.left == curr or prev.right == curr:\n",
    "                if curr.left:\n",
    "                    node_stack.append(curr.left)\n",
    "                elif curr.right:\n",
    "                    node_stack.append(curr.right)\n",
    "            elif curr.left == prev:\n",
    "                if curr.right:\n",
    "                    node_stack.append(curr.right)\n",
    "            else:\n",
    "                res.append(curr.val)\n",
    "                node_stack.pop()\n",
    "            \n",
    "            prev = curr\n",
    "        return result\n"
   ]
  },
  {
   "cell_type": "code",
   "execution_count": null,
   "metadata": {
    "collapsed": true
   },
   "outputs": [],
   "source": []
  },
  {
   "cell_type": "code",
   "execution_count": 369,
   "metadata": {
    "collapsed": false
   },
   "outputs": [],
   "source": [
    "class TreeNode(object):\n",
    "    def __init__(self, x):\n",
    "        self.val = x\n",
    "        self.left = None\n",
    "        self.right = None"
   ]
  },
  {
   "cell_type": "code",
   "execution_count": 456,
   "metadata": {
    "collapsed": false
   },
   "outputs": [],
   "source": [
    "class Solution(object):\n",
    "\n",
    "    def isValidBST(self, root):\n",
    "        \"\"\"\n",
    "        :type root: TreeNode\n",
    "        :rtype: bool\n",
    "        \"\"\"\n",
    "        if root is None:\n",
    "            return True\n",
    "        valid, l_min, r_max = self.check_valid(True, root)\n",
    "        return valid\n",
    "        \n",
    "    \n",
    "    def check_valid(self, valid, root):\n",
    "        if root is None:\n",
    "            return True, 0, 0\n",
    "        if not valid:\n",
    "            return False, 0, 0   \n",
    "        l_valid, left_min, left_max = self.check_valid(valid, root.left)\n",
    "        r_valid, right_min, right_max = self.check_valid(valid, root.right)\n",
    "        b_valid = l_valid and r_valid\n",
    "        \n",
    "        print(root.val, left_max, right_min)\n",
    "        if not b_valid:\n",
    "            return False, 0, 0\n",
    "        if left_max and left_max >= root.val:\n",
    "            return False, 0, 0\n",
    "        if right_min and right_min <= root.val:\n",
    "            return False, 0, 0\n",
    "        return True, min(right_max,root.val), max(left_min,root.val)"
   ]
  },
  {
   "cell_type": "code",
   "execution_count": 457,
   "metadata": {
    "collapsed": false
   },
   "outputs": [],
   "source": [
    "a = TreeNode(1)\n",
    "b = None\n",
    "c = TreeNode(1)\n",
    "# d = TreeNode(1)\n",
    "a.left = b\n",
    "a.right = c\n",
    "# b.left = d"
   ]
  },
  {
   "cell_type": "code",
   "execution_count": 458,
   "metadata": {
    "collapsed": false
   },
   "outputs": [
    {
     "name": "stdout",
     "output_type": "stream",
     "text": [
      "1 0 0\n",
      "1 0 0\n"
     ]
    },
    {
     "data": {
      "text/plain": [
       "True"
      ]
     },
     "execution_count": 458,
     "metadata": {},
     "output_type": "execute_result"
    }
   ],
   "source": [
    "solutions = Solution()\n",
    "solutions.isValidBST(a)"
   ]
  },
  {
   "cell_type": "code",
   "execution_count": null,
   "metadata": {
    "collapsed": false
   },
   "outputs": [],
   "source": []
  }
 ],
 "metadata": {
  "kernelspec": {
   "display_name": "Python 3",
   "language": "python",
   "name": "python3"
  },
  "language_info": {
   "codemirror_mode": {
    "name": "ipython",
    "version": 3
   },
   "file_extension": ".py",
   "mimetype": "text/x-python",
   "name": "python",
   "nbconvert_exporter": "python",
   "pygments_lexer": "ipython3",
   "version": "3.5.0"
  }
 },
 "nbformat": 4,
 "nbformat_minor": 0
}
